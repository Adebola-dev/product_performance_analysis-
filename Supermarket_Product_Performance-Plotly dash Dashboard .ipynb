{
 "cells": [
  {
   "cell_type": "markdown",
   "metadata": {},
   "source": [
    "**Interactive Dashboard: Using Plotly Dash to display output print of \n",
    "A.Top Product_line \n",
    "B.Top selling product line\n",
    "C.Product line with highest unit price\n",
    "D.Product line with highest gross income\n",
    "\n",
    "**And Chart showing Product line performance in relation to \n",
    "1.Sales of product line\n",
    "2.Sales made at each City\n",
    "3.Sales with payment mode and \n",
    "4.Sales made by customer type. "
   ]
  },
  {
   "cell_type": "code",
   "execution_count": 1,
   "metadata": {},
   "outputs": [
    {
     "name": "stdout",
     "output_type": "stream",
     "text": [
      "             Product line      cogs  Quantity  Unit price  gross income\n",
      "0  Electronic accessories  38938.17       731     6636.87     1946.9085\n",
      "1     Fashion accessories  33361.15       591     6845.13     1668.0575\n",
      "2      Food and beverages  36647.14       647     6978.33     1832.3570\n",
      "3       Health and beauty  31717.85       579     5863.49     1585.8925\n",
      "4      Home and lifestyle  33764.95       564     5860.65     1688.2475\n",
      "5       Sports and travel  37457.94       659     6783.17     1872.8970\n",
      "Dash is running on http://127.0.0.1:8050/\n",
      "\n",
      " * Serving Flask app \"__main__\" (lazy loading)\n",
      " * Environment: production\n",
      "   WARNING: This is a development server. Do not use it in a production deployment.\n",
      "   Use a production WSGI server instead.\n",
      " * Debug mode: off\n"
     ]
    },
    {
     "name": "stderr",
     "output_type": "stream",
     "text": [
      " * Running on http://127.0.0.1:8050/ (Press CTRL+C to quit)\n",
      "127.0.0.1 - - [28/Feb/2022 05:42:00] \"\u001b[37mGET / HTTP/1.1\u001b[0m\" 200 -\n",
      "127.0.0.1 - - [28/Feb/2022 05:42:02] \"\u001b[37mGET /_dash-layout HTTP/1.1\u001b[0m\" 200 -\n",
      "127.0.0.1 - - [28/Feb/2022 05:42:02] \"\u001b[37mGET /_dash-dependencies HTTP/1.1\u001b[0m\" 200 -\n",
      "127.0.0.1 - - [28/Feb/2022 05:42:06] \"\u001b[37mPOST /_dash-update-component HTTP/1.1\u001b[0m\" 200 -\n",
      "127.0.0.1 - - [28/Feb/2022 05:42:30] \"\u001b[37mPOST /_dash-update-component HTTP/1.1\u001b[0m\" 200 -\n"
     ]
    }
   ],
   "source": [
    "import pandas as pd\n",
    "import plotly.express as px\n",
    "import dash\n",
    "import dash_core_components as dcc\n",
    "import dash_html_components as html\n",
    "from dash.dependencies import Input, Output\n",
    "\n",
    "df=pd.read_csv('supermarket_sales_3months.csv', encoding='unicode_escape')\n",
    "\n",
    "#The total sum aggregate of each product line to sales, quantity, unit price and gross income.\n",
    "filtered_df = df.groupby('Product line', as_index=False).agg({\"cogs\":\"sum\", \"Quantity\":\"sum\", \"Unit price\":\"sum\", \"gross income\":\"sum\"})\n",
    "print(filtered_df[:8])\n",
    "\n",
    "app = dash.Dash(__name__)\n",
    "\n",
    "app.layout = html.Div([html.Div(children='Supermarket sales made in the year 2020', style={\"text-align\": \"center\", \"background-color\": \"black\", \"color\": \"white\", \"display\": \"inline-block\", \"width\": \"100%\"}),\n",
    "                        html.Div(children='Product performance analysis', style={\"text-align\":\"center\", \"background-color\":\"black\", \"width\":\"100%\", \"color\":\"white\", \"display\":\"inline-block\"}),\n",
    "            \n",
    "            \n",
    "             html.Div(dcc.Dropdown(id='Pd_line',\n",
    "                options=[{'label': i, 'value': i}\n",
    "                for i in df['Product line'].unique()],\n",
    "                multi=False, value='Electronic accessories'),\n",
    "                style={'text-align':'center', 'color':'black', 'background-color':'darkgreen', 'width':'50%', 'display':'inline-block'}), \n",
    "                     \n",
    "                       \n",
    "            html.Div([\n",
    "                dcc.Graph(id='graph1', style={\"width\": \"50%\", \"display\": \"inline-block\", \"float\": \"left\"}),\n",
    "            ]),\n",
    "            html.Div([\n",
    "                dcc.Graph(id='graph2', style={\"width\": \"50%\", \"display\": \"inline-block\", \"float\": \"right\"}),\n",
    "            ]),\n",
    "            html.Div([\n",
    "                dcc.Graph(id='graph3', style={\"width\":\"50%\", \"display\":\"inline-block\", \"float\":\"left\"}),\n",
    "            ]),\n",
    "            html.Div([\n",
    "                dcc.Graph(id='graph4', style={\"width\":\"50%\", \"display\":\"inline-block\", \"float\":\"right\"})\n",
    "            ])           \n",
    "])\n",
    "\n",
    "\n",
    "\n",
    "@app.callback(\n",
    "    [Output(component_id='graph1', component_property='figure'),\n",
    "     Output(component_id='graph2', component_property='figure'),\n",
    "     Output(component_id='graph3', component_property='figure'),\n",
    "     Output(component_id='graph4', component_property='figure')],\n",
    "    Input(component_id='Pd_line', component_property='value')\n",
    ")\n",
    "\n",
    "def update_graph(selected_products):\n",
    "    filtered_df = df[df['Product line'] == selected_products]\n",
    "    fig = px.pie(filtered_df,\n",
    "                names='Product line', values='cogs', \n",
    "                title=f'Sales of product line in {selected_products}')\n",
    "    fig2 = px.bar(filtered_df,\n",
    "                 x='City', y='cogs',\n",
    "                 color='Product line', barmode='group',\n",
    "                 title=f'Sales at each city in {selected_products}')\n",
    "    fig3 = px.bar(filtered_df,\n",
    "                 x='Payment', y='cogs',\n",
    "                 color='Product line', barmode='group',\n",
    "                 title=f'Sales with payments mode in {selected_products}')\n",
    "    fig4= px.bar(filtered_df,\n",
    "                x='Customer type', y='cogs',\n",
    "                color='Product line', barmode='group',\n",
    "                title=f'Sales by customer type in {selected_products}')\n",
    "    \n",
    "    return (fig, fig2, fig3, fig4)\n",
    "\n",
    "\n",
    "\n",
    "if __name__ == '__main__':\n",
    "    app.run_server()           "
   ]
  },
  {
   "cell_type": "code",
   "execution_count": null,
   "metadata": {},
   "outputs": [],
   "source": []
  }
 ],
 "metadata": {
  "kernelspec": {
   "display_name": "Python 3",
   "language": "python",
   "name": "python3"
  },
  "language_info": {
   "codemirror_mode": {
    "name": "ipython",
    "version": 3
   },
   "file_extension": ".py",
   "mimetype": "text/x-python",
   "name": "python",
   "nbconvert_exporter": "python",
   "pygments_lexer": "ipython3",
   "version": "3.8.5"
  }
 },
 "nbformat": 4,
 "nbformat_minor": 4
}
