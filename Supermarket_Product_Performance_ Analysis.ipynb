{
 "cells": [
  {
   "cell_type": "markdown",
   "metadata": {
    "extensions": {
     "jupyter_dashboards": {
      "version": 1,
      "views": {
       "grid_default": {},
       "report_default": {}
      }
     }
    }
   },
   "source": [
    "***SUPERMARKET SALES FOR THREE MONTHS- Product performance Analysis with product rating Analysis"
   ]
  },
  {
   "cell_type": "code",
   "execution_count": 1,
   "metadata": {
    "extensions": {
     "jupyter_dashboards": {
      "version": 1,
      "views": {
       "grid_default": {},
       "report_default": {}
      }
     }
    }
   },
   "outputs": [],
   "source": [
    "from dateutil.parser import parse \n",
    "import matplotlib as mpl\n",
    "import matplotlib.pyplot as plt\n",
    "import seaborn as sns\n",
    "import numpy as np\n",
    "import pandas as pd"
   ]
  },
  {
   "cell_type": "code",
   "execution_count": 2,
   "metadata": {
    "extensions": {
     "jupyter_dashboards": {
      "version": 1,
      "views": {
       "grid_default": {},
       "report_default": {}
      }
     }
    }
   },
   "outputs": [],
   "source": [
    "df=pd.read_csv('supermarket_sales_3months.csv')"
   ]
  },
  {
   "cell_type": "code",
   "execution_count": 3,
   "metadata": {
    "scrolled": true
   },
   "outputs": [
    {
     "name": "stdout",
     "output_type": "stream",
     "text": [
      "<class 'pandas.core.frame.DataFrame'>\n",
      "RangeIndex: 691 entries, 0 to 690\n",
      "Data columns (total 17 columns):\n",
      " #   Column                   Non-Null Count  Dtype  \n",
      "---  ------                   --------------  -----  \n",
      " 0   Invoice ID               691 non-null    object \n",
      " 1   Branch                   691 non-null    object \n",
      " 2   City                     691 non-null    object \n",
      " 3   Customer type            691 non-null    object \n",
      " 4   Gender                   691 non-null    object \n",
      " 5   Product line             691 non-null    object \n",
      " 6   Unit price               691 non-null    float64\n",
      " 7   Quantity                 691 non-null    int64  \n",
      " 8   Tax 5%                   691 non-null    float64\n",
      " 9   Total                    691 non-null    float64\n",
      " 10  Date                     691 non-null    object \n",
      " 11  Time                     691 non-null    object \n",
      " 12  Payment                  691 non-null    object \n",
      " 13  cogs                     691 non-null    float64\n",
      " 14  gross margin percentage  691 non-null    float64\n",
      " 15  gross income             691 non-null    float64\n",
      " 16  Rating                   691 non-null    float64\n",
      "dtypes: float64(7), int64(1), object(9)\n",
      "memory usage: 91.9+ KB\n"
     ]
    }
   ],
   "source": [
    "df.info()"
   ]
  },
  {
   "cell_type": "code",
   "execution_count": 4,
   "metadata": {},
   "outputs": [
    {
     "data": {
      "text/plain": [
       "11747"
      ]
     },
     "execution_count": 4,
     "metadata": {},
     "output_type": "execute_result"
    }
   ],
   "source": [
    "df.size"
   ]
  },
  {
   "cell_type": "code",
   "execution_count": 5,
   "metadata": {},
   "outputs": [
    {
     "data": {
      "text/plain": [
       "(691, 17)"
      ]
     },
     "execution_count": 5,
     "metadata": {},
     "output_type": "execute_result"
    }
   ],
   "source": [
    "df.shape"
   ]
  },
  {
   "cell_type": "code",
   "execution_count": 6,
   "metadata": {
    "extensions": {
     "jupyter_dashboards": {
      "version": 1,
      "views": {
       "grid_default": {},
       "report_default": {}
      }
     }
    }
   },
   "outputs": [
    {
     "data": {
      "text/plain": [
       "Invoice ID                 0\n",
       "Branch                     0\n",
       "City                       0\n",
       "Customer type              0\n",
       "Gender                     0\n",
       "Product line               0\n",
       "Unit price                 0\n",
       "Quantity                   0\n",
       "Tax 5%                     0\n",
       "Total                      0\n",
       "Date                       0\n",
       "Time                       0\n",
       "Payment                    0\n",
       "cogs                       0\n",
       "gross margin percentage    0\n",
       "gross income               0\n",
       "Rating                     0\n",
       "dtype: int64"
      ]
     },
     "execution_count": 6,
     "metadata": {},
     "output_type": "execute_result"
    }
   ],
   "source": [
    "df.isnull().sum()"
   ]
  },
  {
   "cell_type": "code",
   "execution_count": 7,
   "metadata": {},
   "outputs": [
    {
     "data": {
      "text/html": [
       "<div>\n",
       "<style scoped>\n",
       "    .dataframe tbody tr th:only-of-type {\n",
       "        vertical-align: middle;\n",
       "    }\n",
       "\n",
       "    .dataframe tbody tr th {\n",
       "        vertical-align: top;\n",
       "    }\n",
       "\n",
       "    .dataframe thead th {\n",
       "        text-align: right;\n",
       "    }\n",
       "</style>\n",
       "<table border=\"1\" class=\"dataframe\">\n",
       "  <thead>\n",
       "    <tr style=\"text-align: right;\">\n",
       "      <th></th>\n",
       "      <th>Invoice ID</th>\n",
       "      <th>Branch</th>\n",
       "      <th>City</th>\n",
       "      <th>Customer_type</th>\n",
       "      <th>Gender</th>\n",
       "      <th>Product_line</th>\n",
       "      <th>Unit price</th>\n",
       "      <th>Quantity</th>\n",
       "      <th>Tax 5%</th>\n",
       "      <th>Total_sales_after_tax</th>\n",
       "      <th>Date</th>\n",
       "      <th>Time</th>\n",
       "      <th>Payment</th>\n",
       "      <th>Sales</th>\n",
       "      <th>gross margin percentage</th>\n",
       "      <th>gross income</th>\n",
       "      <th>Rating</th>\n",
       "      <th>Month</th>\n",
       "    </tr>\n",
       "  </thead>\n",
       "  <tbody>\n",
       "    <tr>\n",
       "      <th>0</th>\n",
       "      <td>631-41-3108</td>\n",
       "      <td>A</td>\n",
       "      <td>Yangon</td>\n",
       "      <td>Normal</td>\n",
       "      <td>Male</td>\n",
       "      <td>Home and lifestyle</td>\n",
       "      <td>46.33</td>\n",
       "      <td>7</td>\n",
       "      <td>16.2155</td>\n",
       "      <td>340.5255</td>\n",
       "      <td>03/03/2019</td>\n",
       "      <td>13:23</td>\n",
       "      <td>Credit card</td>\n",
       "      <td>324.31</td>\n",
       "      <td>4.761905</td>\n",
       "      <td>16.2155</td>\n",
       "      <td>7.4</td>\n",
       "      <td>3</td>\n",
       "    </tr>\n",
       "    <tr>\n",
       "      <th>1</th>\n",
       "      <td>123-19-1176</td>\n",
       "      <td>A</td>\n",
       "      <td>Yangon</td>\n",
       "      <td>Member</td>\n",
       "      <td>Male</td>\n",
       "      <td>Health and beauty</td>\n",
       "      <td>58.22</td>\n",
       "      <td>8</td>\n",
       "      <td>23.2880</td>\n",
       "      <td>489.0480</td>\n",
       "      <td>27/01/2019</td>\n",
       "      <td>20:33</td>\n",
       "      <td>Ewallet</td>\n",
       "      <td>465.76</td>\n",
       "      <td>4.761905</td>\n",
       "      <td>23.2880</td>\n",
       "      <td>8.4</td>\n",
       "      <td>1</td>\n",
       "    </tr>\n",
       "    <tr>\n",
       "      <th>2</th>\n",
       "      <td>699-14-3026</td>\n",
       "      <td>C</td>\n",
       "      <td>Naypyitaw</td>\n",
       "      <td>Normal</td>\n",
       "      <td>Male</td>\n",
       "      <td>Electronic accessories</td>\n",
       "      <td>85.39</td>\n",
       "      <td>7</td>\n",
       "      <td>29.8865</td>\n",
       "      <td>627.6165</td>\n",
       "      <td>25/03/2019</td>\n",
       "      <td>18:30</td>\n",
       "      <td>Ewallet</td>\n",
       "      <td>597.73</td>\n",
       "      <td>4.761905</td>\n",
       "      <td>29.8865</td>\n",
       "      <td>4.1</td>\n",
       "      <td>3</td>\n",
       "    </tr>\n",
       "    <tr>\n",
       "      <th>3</th>\n",
       "      <td>355-53-5943</td>\n",
       "      <td>A</td>\n",
       "      <td>Yangon</td>\n",
       "      <td>Member</td>\n",
       "      <td>Female</td>\n",
       "      <td>Electronic accessories</td>\n",
       "      <td>68.84</td>\n",
       "      <td>6</td>\n",
       "      <td>20.6520</td>\n",
       "      <td>433.6920</td>\n",
       "      <td>25/02/2019</td>\n",
       "      <td>14:36</td>\n",
       "      <td>Ewallet</td>\n",
       "      <td>413.04</td>\n",
       "      <td>4.761905</td>\n",
       "      <td>20.6520</td>\n",
       "      <td>5.8</td>\n",
       "      <td>2</td>\n",
       "    </tr>\n",
       "    <tr>\n",
       "      <th>4</th>\n",
       "      <td>315-22-5665</td>\n",
       "      <td>C</td>\n",
       "      <td>Naypyitaw</td>\n",
       "      <td>Normal</td>\n",
       "      <td>Female</td>\n",
       "      <td>Home and lifestyle</td>\n",
       "      <td>73.56</td>\n",
       "      <td>10</td>\n",
       "      <td>36.7800</td>\n",
       "      <td>772.3800</td>\n",
       "      <td>24/02/2019</td>\n",
       "      <td>11:38</td>\n",
       "      <td>Ewallet</td>\n",
       "      <td>735.60</td>\n",
       "      <td>4.761905</td>\n",
       "      <td>36.7800</td>\n",
       "      <td>8.0</td>\n",
       "      <td>2</td>\n",
       "    </tr>\n",
       "  </tbody>\n",
       "</table>\n",
       "</div>"
      ],
      "text/plain": [
       "    Invoice ID Branch       City Customer_type  Gender  \\\n",
       "0  631-41-3108      A     Yangon        Normal    Male   \n",
       "1  123-19-1176      A     Yangon        Member    Male   \n",
       "2  699-14-3026      C  Naypyitaw        Normal    Male   \n",
       "3  355-53-5943      A     Yangon        Member  Female   \n",
       "4  315-22-5665      C  Naypyitaw        Normal  Female   \n",
       "\n",
       "             Product_line  Unit price  Quantity   Tax 5%  \\\n",
       "0      Home and lifestyle       46.33         7  16.2155   \n",
       "1       Health and beauty       58.22         8  23.2880   \n",
       "2  Electronic accessories       85.39         7  29.8865   \n",
       "3  Electronic accessories       68.84         6  20.6520   \n",
       "4      Home and lifestyle       73.56        10  36.7800   \n",
       "\n",
       "   Total_sales_after_tax        Date   Time      Payment   Sales  \\\n",
       "0               340.5255  03/03/2019  13:23  Credit card  324.31   \n",
       "1               489.0480  27/01/2019  20:33      Ewallet  465.76   \n",
       "2               627.6165  25/03/2019  18:30      Ewallet  597.73   \n",
       "3               433.6920  25/02/2019  14:36      Ewallet  413.04   \n",
       "4               772.3800  24/02/2019  11:38      Ewallet  735.60   \n",
       "\n",
       "   gross margin percentage  gross income  Rating  Month  \n",
       "0                 4.761905       16.2155     7.4      3  \n",
       "1                 4.761905       23.2880     8.4      1  \n",
       "2                 4.761905       29.8865     4.1      3  \n",
       "3                 4.761905       20.6520     5.8      2  \n",
       "4                 4.761905       36.7800     8.0      2  "
      ]
     },
     "execution_count": 7,
     "metadata": {},
     "output_type": "execute_result"
    }
   ],
   "source": [
    "#rename cogs to sales column\n",
    "df.rename(columns={'cogs':'Sales'}, inplace=True)\n",
    "\n",
    "#Rename Total as Total sales after tax.\n",
    "df.rename(columns={'Total':'Total_sales_after_tax'}, inplace=True)\n",
    "\n",
    "#Rename product line as product_line.\n",
    "df.rename(columns={'Product line':'Product_line'}, inplace=True)\n",
    "\n",
    "#Rename Customer type as Customer_type.\n",
    "df.rename(columns={'Customer type':'Customer_type'}, inplace=True)\n",
    "\n",
    "#add month columns\n",
    "df['Month']=pd.to_datetime(df['Date']).dt.month\n",
    "df.head(5)"
   ]
  },
  {
   "cell_type": "code",
   "execution_count": 8,
   "metadata": {
    "extensions": {
     "jupyter_dashboards": {
      "version": 1,
      "views": {
       "grid_default": {},
       "report_default": {}
      }
     }
    }
   },
   "outputs": [
    {
     "data": {
      "text/html": [
       "<div>\n",
       "<style scoped>\n",
       "    .dataframe tbody tr th:only-of-type {\n",
       "        vertical-align: middle;\n",
       "    }\n",
       "\n",
       "    .dataframe tbody tr th {\n",
       "        vertical-align: top;\n",
       "    }\n",
       "\n",
       "    .dataframe thead th {\n",
       "        text-align: right;\n",
       "    }\n",
       "</style>\n",
       "<table border=\"1\" class=\"dataframe\">\n",
       "  <thead>\n",
       "    <tr style=\"text-align: right;\">\n",
       "      <th></th>\n",
       "      <th>Unit price</th>\n",
       "      <th>Quantity</th>\n",
       "      <th>Tax 5%</th>\n",
       "      <th>Total_sales_after_tax</th>\n",
       "      <th>Sales</th>\n",
       "      <th>gross margin percentage</th>\n",
       "      <th>gross income</th>\n",
       "      <th>Rating</th>\n",
       "      <th>Month</th>\n",
       "    </tr>\n",
       "  </thead>\n",
       "  <tbody>\n",
       "    <tr>\n",
       "      <th>count</th>\n",
       "      <td>691.000000</td>\n",
       "      <td>691.000000</td>\n",
       "      <td>691.000000</td>\n",
       "      <td>691.000000</td>\n",
       "      <td>691.000000</td>\n",
       "      <td>6.910000e+02</td>\n",
       "      <td>691.000000</td>\n",
       "      <td>691.000000</td>\n",
       "      <td>691.000000</td>\n",
       "    </tr>\n",
       "    <tr>\n",
       "      <th>mean</th>\n",
       "      <td>56.393111</td>\n",
       "      <td>5.457308</td>\n",
       "      <td>15.331925</td>\n",
       "      <td>321.970420</td>\n",
       "      <td>306.638495</td>\n",
       "      <td>4.761905e+00</td>\n",
       "      <td>15.331925</td>\n",
       "      <td>6.905789</td>\n",
       "      <td>1.959479</td>\n",
       "    </tr>\n",
       "    <tr>\n",
       "      <th>std</th>\n",
       "      <td>26.478253</td>\n",
       "      <td>2.930472</td>\n",
       "      <td>11.583572</td>\n",
       "      <td>243.255009</td>\n",
       "      <td>231.671438</td>\n",
       "      <td>5.244049e-14</td>\n",
       "      <td>11.583572</td>\n",
       "      <td>1.741645</td>\n",
       "      <td>0.846874</td>\n",
       "    </tr>\n",
       "    <tr>\n",
       "      <th>min</th>\n",
       "      <td>10.080000</td>\n",
       "      <td>1.000000</td>\n",
       "      <td>0.604500</td>\n",
       "      <td>12.694500</td>\n",
       "      <td>12.090000</td>\n",
       "      <td>4.761905e+00</td>\n",
       "      <td>0.604500</td>\n",
       "      <td>4.000000</td>\n",
       "      <td>1.000000</td>\n",
       "    </tr>\n",
       "    <tr>\n",
       "      <th>25%</th>\n",
       "      <td>33.635000</td>\n",
       "      <td>3.000000</td>\n",
       "      <td>5.789500</td>\n",
       "      <td>121.579500</td>\n",
       "      <td>115.790000</td>\n",
       "      <td>4.761905e+00</td>\n",
       "      <td>5.789500</td>\n",
       "      <td>5.500000</td>\n",
       "      <td>1.000000</td>\n",
       "    </tr>\n",
       "    <tr>\n",
       "      <th>50%</th>\n",
       "      <td>56.040000</td>\n",
       "      <td>5.000000</td>\n",
       "      <td>12.151500</td>\n",
       "      <td>255.181500</td>\n",
       "      <td>243.030000</td>\n",
       "      <td>4.761905e+00</td>\n",
       "      <td>12.151500</td>\n",
       "      <td>6.900000</td>\n",
       "      <td>2.000000</td>\n",
       "    </tr>\n",
       "    <tr>\n",
       "      <th>75%</th>\n",
       "      <td>78.225000</td>\n",
       "      <td>8.000000</td>\n",
       "      <td>22.428000</td>\n",
       "      <td>470.988000</td>\n",
       "      <td>448.560000</td>\n",
       "      <td>4.761905e+00</td>\n",
       "      <td>22.428000</td>\n",
       "      <td>8.400000</td>\n",
       "      <td>3.000000</td>\n",
       "    </tr>\n",
       "    <tr>\n",
       "      <th>max</th>\n",
       "      <td>99.960000</td>\n",
       "      <td>10.000000</td>\n",
       "      <td>49.650000</td>\n",
       "      <td>1042.650000</td>\n",
       "      <td>993.000000</td>\n",
       "      <td>4.761905e+00</td>\n",
       "      <td>49.650000</td>\n",
       "      <td>10.000000</td>\n",
       "      <td>3.000000</td>\n",
       "    </tr>\n",
       "  </tbody>\n",
       "</table>\n",
       "</div>"
      ],
      "text/plain": [
       "       Unit price    Quantity      Tax 5%  Total_sales_after_tax       Sales  \\\n",
       "count  691.000000  691.000000  691.000000             691.000000  691.000000   \n",
       "mean    56.393111    5.457308   15.331925             321.970420  306.638495   \n",
       "std     26.478253    2.930472   11.583572             243.255009  231.671438   \n",
       "min     10.080000    1.000000    0.604500              12.694500   12.090000   \n",
       "25%     33.635000    3.000000    5.789500             121.579500  115.790000   \n",
       "50%     56.040000    5.000000   12.151500             255.181500  243.030000   \n",
       "75%     78.225000    8.000000   22.428000             470.988000  448.560000   \n",
       "max     99.960000   10.000000   49.650000            1042.650000  993.000000   \n",
       "\n",
       "       gross margin percentage  gross income      Rating       Month  \n",
       "count             6.910000e+02    691.000000  691.000000  691.000000  \n",
       "mean              4.761905e+00     15.331925    6.905789    1.959479  \n",
       "std               5.244049e-14     11.583572    1.741645    0.846874  \n",
       "min               4.761905e+00      0.604500    4.000000    1.000000  \n",
       "25%               4.761905e+00      5.789500    5.500000    1.000000  \n",
       "50%               4.761905e+00     12.151500    6.900000    2.000000  \n",
       "75%               4.761905e+00     22.428000    8.400000    3.000000  \n",
       "max               4.761905e+00     49.650000   10.000000    3.000000  "
      ]
     },
     "execution_count": 8,
     "metadata": {},
     "output_type": "execute_result"
    }
   ],
   "source": [
    "df.describe()"
   ]
  },
  {
   "cell_type": "markdown",
   "metadata": {
    "extensions": {
     "jupyter_dashboards": {
      "version": 1,
      "views": {
       "grid_default": {},
       "report_default": {}
      }
     }
    }
   },
   "source": [
    "Interpretation:The avg unit price is $56.04 of 5qty per product lines; avg sales of $243.03; avg gross income $12.15 and an avg month of 2nd month (February)."
   ]
  },
  {
   "cell_type": "code",
   "execution_count": 9,
   "metadata": {
    "extensions": {
     "jupyter_dashboards": {
      "version": 1,
      "views": {
       "grid_default": {},
       "report_default": {}
      }
     }
    }
   },
   "outputs": [
    {
     "data": {
      "text/html": [
       "<div>\n",
       "<style scoped>\n",
       "    .dataframe tbody tr th:only-of-type {\n",
       "        vertical-align: middle;\n",
       "    }\n",
       "\n",
       "    .dataframe tbody tr th {\n",
       "        vertical-align: top;\n",
       "    }\n",
       "\n",
       "    .dataframe thead th {\n",
       "        text-align: right;\n",
       "    }\n",
       "</style>\n",
       "<table border=\"1\" class=\"dataframe\">\n",
       "  <thead>\n",
       "    <tr style=\"text-align: right;\">\n",
       "      <th></th>\n",
       "      <th>Invoice ID</th>\n",
       "      <th>Branch</th>\n",
       "      <th>City</th>\n",
       "      <th>Customer_type</th>\n",
       "      <th>Gender</th>\n",
       "      <th>Product_line</th>\n",
       "      <th>Date</th>\n",
       "      <th>Time</th>\n",
       "      <th>Payment</th>\n",
       "    </tr>\n",
       "  </thead>\n",
       "  <tbody>\n",
       "    <tr>\n",
       "      <th>count</th>\n",
       "      <td>691</td>\n",
       "      <td>691</td>\n",
       "      <td>691</td>\n",
       "      <td>691</td>\n",
       "      <td>691</td>\n",
       "      <td>691</td>\n",
       "      <td>691</td>\n",
       "      <td>691</td>\n",
       "      <td>691</td>\n",
       "    </tr>\n",
       "    <tr>\n",
       "      <th>unique</th>\n",
       "      <td>691</td>\n",
       "      <td>3</td>\n",
       "      <td>3</td>\n",
       "      <td>2</td>\n",
       "      <td>2</td>\n",
       "      <td>6</td>\n",
       "      <td>62</td>\n",
       "      <td>417</td>\n",
       "      <td>3</td>\n",
       "    </tr>\n",
       "    <tr>\n",
       "      <th>top</th>\n",
       "      <td>631-41-3108</td>\n",
       "      <td>A</td>\n",
       "      <td>Yangon</td>\n",
       "      <td>Normal</td>\n",
       "      <td>Male</td>\n",
       "      <td>Electronic accessories</td>\n",
       "      <td>15/02/2019</td>\n",
       "      <td>14:42</td>\n",
       "      <td>Cash</td>\n",
       "    </tr>\n",
       "    <tr>\n",
       "      <th>freq</th>\n",
       "      <td>1</td>\n",
       "      <td>235</td>\n",
       "      <td>235</td>\n",
       "      <td>352</td>\n",
       "      <td>355</td>\n",
       "      <td>123</td>\n",
       "      <td>19</td>\n",
       "      <td>7</td>\n",
       "      <td>247</td>\n",
       "    </tr>\n",
       "  </tbody>\n",
       "</table>\n",
       "</div>"
      ],
      "text/plain": [
       "         Invoice ID Branch    City Customer_type Gender  \\\n",
       "count           691    691     691           691    691   \n",
       "unique          691      3       3             2      2   \n",
       "top     631-41-3108      A  Yangon        Normal   Male   \n",
       "freq              1    235     235           352    355   \n",
       "\n",
       "                  Product_line        Date   Time Payment  \n",
       "count                      691         691    691     691  \n",
       "unique                       6          62    417       3  \n",
       "top     Electronic accessories  15/02/2019  14:42    Cash  \n",
       "freq                       123          19      7     247  "
      ]
     },
     "execution_count": 9,
     "metadata": {},
     "output_type": "execute_result"
    }
   ],
   "source": [
    "#Descriptive analysis on categorical variable\n",
    "cat_var=df.describe(include='O')\n",
    "cat_var"
   ]
  },
  {
   "cell_type": "markdown",
   "metadata": {
    "extensions": {
     "jupyter_dashboards": {
      "version": 1,
      "views": {
       "grid_default": {},
       "report_default": {}
      }
     }
    }
   },
   "source": [
    "*Interpretation: Descriptive analysis of the catergorical variables. The top branch is A; City as Yangon; product line as \"Electronic accessories\"; mode of payment as Cash. "
   ]
  },
  {
   "cell_type": "markdown",
   "metadata": {},
   "source": [
    "***Product Performance Analysis:\n",
    "\n",
    "        Product_line with the highest volume\n",
    "        Product lines volume at each branch and location\n",
    "        Association among the customer type to Product_lines\n",
    "        Product lines in relation to customer type and model of payment\n",
    "        Sum group of product_lines\n",
    "        To determine the top ten products for the year 2019\n",
    "        To determine the top selling products in terms of volumes for the year 2019\n",
    "        To determine the product_line with the highest unit price\n",
    "        To determine the product_line with the highest gross income\n",
    "        Data visualisation on sales of product_line at each branch; city\n",
    "        Product_line rating and data visualisation on average product_line rating.        "
   ]
  },
  {
   "cell_type": "code",
   "execution_count": 10,
   "metadata": {
    "scrolled": false
   },
   "outputs": [
    {
     "data": {
      "text/html": [
       "<div>\n",
       "<style scoped>\n",
       "    .dataframe tbody tr th:only-of-type {\n",
       "        vertical-align: middle;\n",
       "    }\n",
       "\n",
       "    .dataframe tbody tr th {\n",
       "        vertical-align: top;\n",
       "    }\n",
       "\n",
       "    .dataframe thead th {\n",
       "        text-align: right;\n",
       "    }\n",
       "</style>\n",
       "<table border=\"1\" class=\"dataframe\">\n",
       "  <thead>\n",
       "    <tr style=\"text-align: right;\">\n",
       "      <th>col_0</th>\n",
       "      <th>Product_line</th>\n",
       "    </tr>\n",
       "    <tr>\n",
       "      <th>Product_line</th>\n",
       "      <th></th>\n",
       "    </tr>\n",
       "  </thead>\n",
       "  <tbody>\n",
       "    <tr>\n",
       "      <th>Electronic accessories</th>\n",
       "      <td>123</td>\n",
       "    </tr>\n",
       "    <tr>\n",
       "      <th>Fashion accessories</th>\n",
       "      <td>120</td>\n",
       "    </tr>\n",
       "    <tr>\n",
       "      <th>Food and beverages</th>\n",
       "      <td>122</td>\n",
       "    </tr>\n",
       "    <tr>\n",
       "      <th>Health and beauty</th>\n",
       "      <td>107</td>\n",
       "    </tr>\n",
       "    <tr>\n",
       "      <th>Home and lifestyle</th>\n",
       "      <td>101</td>\n",
       "    </tr>\n",
       "    <tr>\n",
       "      <th>Sports and travel</th>\n",
       "      <td>118</td>\n",
       "    </tr>\n",
       "  </tbody>\n",
       "</table>\n",
       "</div>"
      ],
      "text/plain": [
       "col_0                   Product_line\n",
       "Product_line                        \n",
       "Electronic accessories           123\n",
       "Fashion accessories              120\n",
       "Food and beverages               122\n",
       "Health and beauty                107\n",
       "Home and lifestyle               101\n",
       "Sports and travel                118"
      ]
     },
     "execution_count": 10,
     "metadata": {},
     "output_type": "execute_result"
    }
   ],
   "source": [
    "#Frequncy Product lines with the highest volume.\n",
    "pd.crosstab(index=df[\"Product_line\"],columns=['Product_line'])     "
   ]
  },
  {
   "cell_type": "markdown",
   "metadata": {},
   "source": [
    "**Interpretation: Electronic accessories has the highest volume(123), while Home and lifstlye products has the lowest volume(101)."
   ]
  },
  {
   "cell_type": "code",
   "execution_count": 11,
   "metadata": {},
   "outputs": [
    {
     "data": {
      "text/html": [
       "<div>\n",
       "<style scoped>\n",
       "    .dataframe tbody tr th:only-of-type {\n",
       "        vertical-align: middle;\n",
       "    }\n",
       "\n",
       "    .dataframe tbody tr th {\n",
       "        vertical-align: top;\n",
       "    }\n",
       "\n",
       "    .dataframe thead th {\n",
       "        text-align: right;\n",
       "    }\n",
       "</style>\n",
       "<table border=\"1\" class=\"dataframe\">\n",
       "  <thead>\n",
       "    <tr style=\"text-align: right;\">\n",
       "      <th>City</th>\n",
       "      <th>Mandalay</th>\n",
       "      <th>Naypyitaw</th>\n",
       "      <th>Yangon</th>\n",
       "    </tr>\n",
       "    <tr>\n",
       "      <th>Product_line</th>\n",
       "      <th></th>\n",
       "      <th></th>\n",
       "      <th></th>\n",
       "    </tr>\n",
       "  </thead>\n",
       "  <tbody>\n",
       "    <tr>\n",
       "      <th>Electronic accessories</th>\n",
       "      <td>36</td>\n",
       "      <td>42</td>\n",
       "      <td>45</td>\n",
       "    </tr>\n",
       "    <tr>\n",
       "      <th>Fashion accessories</th>\n",
       "      <td>45</td>\n",
       "      <td>41</td>\n",
       "      <td>34</td>\n",
       "    </tr>\n",
       "    <tr>\n",
       "      <th>Food and beverages</th>\n",
       "      <td>34</td>\n",
       "      <td>42</td>\n",
       "      <td>46</td>\n",
       "    </tr>\n",
       "    <tr>\n",
       "      <th>Health and beauty</th>\n",
       "      <td>41</td>\n",
       "      <td>36</td>\n",
       "      <td>30</td>\n",
       "    </tr>\n",
       "    <tr>\n",
       "      <th>Home and lifestyle</th>\n",
       "      <td>27</td>\n",
       "      <td>31</td>\n",
       "      <td>43</td>\n",
       "    </tr>\n",
       "    <tr>\n",
       "      <th>Sports and travel</th>\n",
       "      <td>46</td>\n",
       "      <td>35</td>\n",
       "      <td>37</td>\n",
       "    </tr>\n",
       "  </tbody>\n",
       "</table>\n",
       "</div>"
      ],
      "text/plain": [
       "City                    Mandalay  Naypyitaw  Yangon\n",
       "Product_line                                       \n",
       "Electronic accessories        36         42      45\n",
       "Fashion accessories           45         41      34\n",
       "Food and beverages            34         42      46\n",
       "Health and beauty             41         36      30\n",
       "Home and lifestyle            27         31      43\n",
       "Sports and travel             46         35      37"
      ]
     },
     "execution_count": 11,
     "metadata": {},
     "output_type": "execute_result"
    }
   ],
   "source": [
    "#Frequency of Product_line at each City.\n",
    "pd.crosstab(df['Product_line'],df.City)"
   ]
  },
  {
   "cell_type": "code",
   "execution_count": 12,
   "metadata": {},
   "outputs": [
    {
     "data": {
      "text/html": [
       "<div>\n",
       "<style scoped>\n",
       "    .dataframe tbody tr th:only-of-type {\n",
       "        vertical-align: middle;\n",
       "    }\n",
       "\n",
       "    .dataframe tbody tr th {\n",
       "        vertical-align: top;\n",
       "    }\n",
       "\n",
       "    .dataframe thead th {\n",
       "        text-align: right;\n",
       "    }\n",
       "</style>\n",
       "<table border=\"1\" class=\"dataframe\">\n",
       "  <thead>\n",
       "    <tr style=\"text-align: right;\">\n",
       "      <th>Branch</th>\n",
       "      <th>A</th>\n",
       "      <th>B</th>\n",
       "      <th>C</th>\n",
       "    </tr>\n",
       "    <tr>\n",
       "      <th>Product_line</th>\n",
       "      <th></th>\n",
       "      <th></th>\n",
       "      <th></th>\n",
       "    </tr>\n",
       "  </thead>\n",
       "  <tbody>\n",
       "    <tr>\n",
       "      <th>Electronic accessories</th>\n",
       "      <td>45</td>\n",
       "      <td>36</td>\n",
       "      <td>42</td>\n",
       "    </tr>\n",
       "    <tr>\n",
       "      <th>Fashion accessories</th>\n",
       "      <td>34</td>\n",
       "      <td>45</td>\n",
       "      <td>41</td>\n",
       "    </tr>\n",
       "    <tr>\n",
       "      <th>Food and beverages</th>\n",
       "      <td>46</td>\n",
       "      <td>34</td>\n",
       "      <td>42</td>\n",
       "    </tr>\n",
       "    <tr>\n",
       "      <th>Health and beauty</th>\n",
       "      <td>30</td>\n",
       "      <td>41</td>\n",
       "      <td>36</td>\n",
       "    </tr>\n",
       "    <tr>\n",
       "      <th>Home and lifestyle</th>\n",
       "      <td>43</td>\n",
       "      <td>27</td>\n",
       "      <td>31</td>\n",
       "    </tr>\n",
       "    <tr>\n",
       "      <th>Sports and travel</th>\n",
       "      <td>37</td>\n",
       "      <td>46</td>\n",
       "      <td>35</td>\n",
       "    </tr>\n",
       "  </tbody>\n",
       "</table>\n",
       "</div>"
      ],
      "text/plain": [
       "Branch                   A   B   C\n",
       "Product_line                      \n",
       "Electronic accessories  45  36  42\n",
       "Fashion accessories     34  45  41\n",
       "Food and beverages      46  34  42\n",
       "Health and beauty       30  41  36\n",
       "Home and lifestyle      43  27  31\n",
       "Sports and travel       37  46  35"
      ]
     },
     "execution_count": 12,
     "metadata": {},
     "output_type": "execute_result"
    }
   ],
   "source": [
    "#Frequency of Product_line at each branches.\n",
    "pd.crosstab(df['Product_line'],df.Branch)"
   ]
  },
  {
   "cell_type": "code",
   "execution_count": 13,
   "metadata": {},
   "outputs": [
    {
     "data": {
      "text/html": [
       "<div>\n",
       "<style scoped>\n",
       "    .dataframe tbody tr th:only-of-type {\n",
       "        vertical-align: middle;\n",
       "    }\n",
       "\n",
       "    .dataframe tbody tr th {\n",
       "        vertical-align: top;\n",
       "    }\n",
       "\n",
       "    .dataframe thead th {\n",
       "        text-align: right;\n",
       "    }\n",
       "</style>\n",
       "<table border=\"1\" class=\"dataframe\">\n",
       "  <thead>\n",
       "    <tr style=\"text-align: right;\">\n",
       "      <th>Product_line</th>\n",
       "      <th>Electronic accessories</th>\n",
       "      <th>Fashion accessories</th>\n",
       "      <th>Food and beverages</th>\n",
       "      <th>Health and beauty</th>\n",
       "      <th>Home and lifestyle</th>\n",
       "      <th>Sports and travel</th>\n",
       "    </tr>\n",
       "    <tr>\n",
       "      <th>Customer_type</th>\n",
       "      <th></th>\n",
       "      <th></th>\n",
       "      <th></th>\n",
       "      <th></th>\n",
       "      <th></th>\n",
       "      <th></th>\n",
       "    </tr>\n",
       "  </thead>\n",
       "  <tbody>\n",
       "    <tr>\n",
       "      <th>Member</th>\n",
       "      <td>55</td>\n",
       "      <td>60</td>\n",
       "      <td>61</td>\n",
       "      <td>49</td>\n",
       "      <td>54</td>\n",
       "      <td>60</td>\n",
       "    </tr>\n",
       "    <tr>\n",
       "      <th>Normal</th>\n",
       "      <td>68</td>\n",
       "      <td>60</td>\n",
       "      <td>61</td>\n",
       "      <td>58</td>\n",
       "      <td>47</td>\n",
       "      <td>58</td>\n",
       "    </tr>\n",
       "  </tbody>\n",
       "</table>\n",
       "</div>"
      ],
      "text/plain": [
       "Product_line   Electronic accessories  Fashion accessories  \\\n",
       "Customer_type                                                \n",
       "Member                             55                   60   \n",
       "Normal                             68                   60   \n",
       "\n",
       "Product_line   Food and beverages  Health and beauty  Home and lifestyle  \\\n",
       "Customer_type                                                              \n",
       "Member                         61                 49                  54   \n",
       "Normal                         61                 58                  47   \n",
       "\n",
       "Product_line   Sports and travel  \n",
       "Customer_type                     \n",
       "Member                        60  \n",
       "Normal                        58  "
      ]
     },
     "execution_count": 13,
     "metadata": {},
     "output_type": "execute_result"
    }
   ],
   "source": [
    "#Tabulation of customer type patronage by product lines.\n",
    "pd.crosstab(df['Customer_type'],df.Product_line)"
   ]
  },
  {
   "cell_type": "markdown",
   "metadata": {},
   "source": [
    "***Food and beverages product_line has the highest customer type \"Member\", while Electronic accessories product_line has the highest customer type \"Normal\"."
   ]
  },
  {
   "cell_type": "code",
   "execution_count": 14,
   "metadata": {},
   "outputs": [
    {
     "data": {
      "text/plain": [
       "(2.4063185173440527,\n",
       " 0.7905327985203656,\n",
       " 5,\n",
       " array([[60.34298119, 62.65701881],\n",
       "        [58.87120116, 61.12879884],\n",
       "        [59.85238784, 62.14761216],\n",
       "        [52.4934877 , 54.5065123 ],\n",
       "        [49.54992764, 51.45007236],\n",
       "        [57.89001447, 60.10998553]]))"
      ]
     },
     "execution_count": 14,
     "metadata": {},
     "output_type": "execute_result"
    }
   ],
   "source": [
    "#HO:There is an association between the product_line and customer_type\n",
    "from scipy.stats import chi2_contingency\n",
    "chi2_contingency(pd.crosstab(df.Product_line, df.Customer_type))"
   ]
  },
  {
   "cell_type": "markdown",
   "metadata": {},
   "source": [
    "***Interpretation: P-value is 0.7905 and alpha is 0.05 and P-value is > alpha value. Therefore, we accept Ho and reject Ha.\n",
    "\n",
    "***Conclusion: There is an association between Customer_type and Product_line. "
   ]
  },
  {
   "cell_type": "code",
   "execution_count": 15,
   "metadata": {},
   "outputs": [
    {
     "data": {
      "text/html": [
       "<div>\n",
       "<style scoped>\n",
       "    .dataframe tbody tr th:only-of-type {\n",
       "        vertical-align: middle;\n",
       "    }\n",
       "\n",
       "    .dataframe tbody tr th {\n",
       "        vertical-align: top;\n",
       "    }\n",
       "\n",
       "    .dataframe thead th {\n",
       "        text-align: right;\n",
       "    }\n",
       "</style>\n",
       "<table border=\"1\" class=\"dataframe\">\n",
       "  <thead>\n",
       "    <tr style=\"text-align: right;\">\n",
       "      <th>Product_line</th>\n",
       "      <th>Electronic accessories</th>\n",
       "      <th>Fashion accessories</th>\n",
       "      <th>Food and beverages</th>\n",
       "      <th>Health and beauty</th>\n",
       "      <th>Home and lifestyle</th>\n",
       "      <th>Sports and travel</th>\n",
       "    </tr>\n",
       "    <tr>\n",
       "      <th>Payment</th>\n",
       "      <th></th>\n",
       "      <th></th>\n",
       "      <th></th>\n",
       "      <th></th>\n",
       "      <th></th>\n",
       "      <th></th>\n",
       "    </tr>\n",
       "  </thead>\n",
       "  <tbody>\n",
       "    <tr>\n",
       "      <th>Cash</th>\n",
       "      <td>48</td>\n",
       "      <td>40</td>\n",
       "      <td>41</td>\n",
       "      <td>38</td>\n",
       "      <td>34</td>\n",
       "      <td>46</td>\n",
       "    </tr>\n",
       "    <tr>\n",
       "      <th>Credit card</th>\n",
       "      <td>31</td>\n",
       "      <td>37</td>\n",
       "      <td>46</td>\n",
       "      <td>32</td>\n",
       "      <td>29</td>\n",
       "      <td>38</td>\n",
       "    </tr>\n",
       "    <tr>\n",
       "      <th>Ewallet</th>\n",
       "      <td>44</td>\n",
       "      <td>43</td>\n",
       "      <td>35</td>\n",
       "      <td>37</td>\n",
       "      <td>38</td>\n",
       "      <td>34</td>\n",
       "    </tr>\n",
       "  </tbody>\n",
       "</table>\n",
       "</div>"
      ],
      "text/plain": [
       "Product_line  Electronic accessories  Fashion accessories  Food and beverages  \\\n",
       "Payment                                                                         \n",
       "Cash                              48                   40                  41   \n",
       "Credit card                       31                   37                  46   \n",
       "Ewallet                           44                   43                  35   \n",
       "\n",
       "Product_line  Health and beauty  Home and lifestyle  Sports and travel  \n",
       "Payment                                                                 \n",
       "Cash                         38                  34                 46  \n",
       "Credit card                  32                  29                 38  \n",
       "Ewallet                      37                  38                 34  "
      ]
     },
     "execution_count": 15,
     "metadata": {},
     "output_type": "execute_result"
    }
   ],
   "source": [
    "#Frequency table of on each product_lines mode payment terms.\n",
    "pd.crosstab(df['Payment'],df.Product_line)"
   ]
  },
  {
   "cell_type": "raw",
   "metadata": {},
   "source": [
    "***Food and beverages product_line has the highest payment \"Credit card\", Electronic accessories product_line has the highest payment \"Cash\" and Electronic accessories has the highest payment \"Ewallet\"."
   ]
  },
  {
   "cell_type": "code",
   "execution_count": 16,
   "metadata": {
    "extensions": {
     "jupyter_dashboards": {
      "version": 1,
      "views": {
       "grid_default": {},
       "report_default": {}
      }
     }
    }
   },
   "outputs": [
    {
     "data": {
      "text/html": [
       "<div>\n",
       "<style scoped>\n",
       "    .dataframe tbody tr th:only-of-type {\n",
       "        vertical-align: middle;\n",
       "    }\n",
       "\n",
       "    .dataframe tbody tr th {\n",
       "        vertical-align: top;\n",
       "    }\n",
       "\n",
       "    .dataframe thead th {\n",
       "        text-align: right;\n",
       "    }\n",
       "</style>\n",
       "<table border=\"1\" class=\"dataframe\">\n",
       "  <thead>\n",
       "    <tr style=\"text-align: right;\">\n",
       "      <th></th>\n",
       "      <th>Unit price</th>\n",
       "      <th>Quantity</th>\n",
       "      <th>Tax 5%</th>\n",
       "      <th>Total_sales_after_tax</th>\n",
       "      <th>Sales</th>\n",
       "      <th>gross margin percentage</th>\n",
       "      <th>gross income</th>\n",
       "      <th>Rating</th>\n",
       "      <th>Month</th>\n",
       "    </tr>\n",
       "    <tr>\n",
       "      <th>Product_line</th>\n",
       "      <th></th>\n",
       "      <th></th>\n",
       "      <th></th>\n",
       "      <th></th>\n",
       "      <th></th>\n",
       "      <th></th>\n",
       "      <th></th>\n",
       "      <th></th>\n",
       "      <th></th>\n",
       "    </tr>\n",
       "  </thead>\n",
       "  <tbody>\n",
       "    <tr>\n",
       "      <th>Electronic accessories</th>\n",
       "      <td>6636.87</td>\n",
       "      <td>731</td>\n",
       "      <td>1946.9085</td>\n",
       "      <td>40885.0785</td>\n",
       "      <td>38938.17</td>\n",
       "      <td>585.714286</td>\n",
       "      <td>1946.9085</td>\n",
       "      <td>826.6</td>\n",
       "      <td>248</td>\n",
       "    </tr>\n",
       "    <tr>\n",
       "      <th>Fashion accessories</th>\n",
       "      <td>6845.13</td>\n",
       "      <td>591</td>\n",
       "      <td>1668.0575</td>\n",
       "      <td>35029.2075</td>\n",
       "      <td>33361.15</td>\n",
       "      <td>571.428571</td>\n",
       "      <td>1668.0575</td>\n",
       "      <td>832.2</td>\n",
       "      <td>236</td>\n",
       "    </tr>\n",
       "    <tr>\n",
       "      <th>Food and beverages</th>\n",
       "      <td>6978.33</td>\n",
       "      <td>647</td>\n",
       "      <td>1832.3570</td>\n",
       "      <td>38479.4970</td>\n",
       "      <td>36647.14</td>\n",
       "      <td>580.952381</td>\n",
       "      <td>1832.3570</td>\n",
       "      <td>866.4</td>\n",
       "      <td>241</td>\n",
       "    </tr>\n",
       "    <tr>\n",
       "      <th>Health and beauty</th>\n",
       "      <td>5863.49</td>\n",
       "      <td>579</td>\n",
       "      <td>1585.8925</td>\n",
       "      <td>33303.7425</td>\n",
       "      <td>31717.85</td>\n",
       "      <td>509.523810</td>\n",
       "      <td>1585.8925</td>\n",
       "      <td>732.0</td>\n",
       "      <td>206</td>\n",
       "    </tr>\n",
       "    <tr>\n",
       "      <th>Home and lifestyle</th>\n",
       "      <td>5860.65</td>\n",
       "      <td>564</td>\n",
       "      <td>1688.2475</td>\n",
       "      <td>35453.1975</td>\n",
       "      <td>33764.95</td>\n",
       "      <td>480.952381</td>\n",
       "      <td>1688.2475</td>\n",
       "      <td>686.5</td>\n",
       "      <td>203</td>\n",
       "    </tr>\n",
       "    <tr>\n",
       "      <th>Sports and travel</th>\n",
       "      <td>6783.17</td>\n",
       "      <td>659</td>\n",
       "      <td>1872.8970</td>\n",
       "      <td>39330.8370</td>\n",
       "      <td>37457.94</td>\n",
       "      <td>561.904762</td>\n",
       "      <td>1872.8970</td>\n",
       "      <td>828.2</td>\n",
       "      <td>220</td>\n",
       "    </tr>\n",
       "  </tbody>\n",
       "</table>\n",
       "</div>"
      ],
      "text/plain": [
       "                        Unit price  Quantity     Tax 5%  \\\n",
       "Product_line                                              \n",
       "Electronic accessories     6636.87       731  1946.9085   \n",
       "Fashion accessories        6845.13       591  1668.0575   \n",
       "Food and beverages         6978.33       647  1832.3570   \n",
       "Health and beauty          5863.49       579  1585.8925   \n",
       "Home and lifestyle         5860.65       564  1688.2475   \n",
       "Sports and travel          6783.17       659  1872.8970   \n",
       "\n",
       "                        Total_sales_after_tax     Sales  \\\n",
       "Product_line                                              \n",
       "Electronic accessories             40885.0785  38938.17   \n",
       "Fashion accessories                35029.2075  33361.15   \n",
       "Food and beverages                 38479.4970  36647.14   \n",
       "Health and beauty                  33303.7425  31717.85   \n",
       "Home and lifestyle                 35453.1975  33764.95   \n",
       "Sports and travel                  39330.8370  37457.94   \n",
       "\n",
       "                        gross margin percentage  gross income  Rating  Month  \n",
       "Product_line                                                                  \n",
       "Electronic accessories               585.714286     1946.9085   826.6    248  \n",
       "Fashion accessories                  571.428571     1668.0575   832.2    236  \n",
       "Food and beverages                   580.952381     1832.3570   866.4    241  \n",
       "Health and beauty                    509.523810     1585.8925   732.0    206  \n",
       "Home and lifestyle                   480.952381     1688.2475   686.5    203  \n",
       "Sports and travel                    561.904762     1872.8970   828.2    220  "
      ]
     },
     "execution_count": 16,
     "metadata": {},
     "output_type": "execute_result"
    }
   ],
   "source": [
    "#What product sold most in terms of sum volume.\n",
    "df.groupby('Product_line').sum()"
   ]
  },
  {
   "cell_type": "markdown",
   "metadata": {
    "extensions": {
     "jupyter_dashboards": {
      "version": 1,
      "views": {
       "grid_default": {},
       "report_default": {}
      }
     }
    }
   },
   "source": [
    "***Interpretation:\n",
    "    Electronic accessories has the highest sales ($38,938.17), with 248days, highest rating of 826.6. "
   ]
  },
  {
   "cell_type": "code",
   "execution_count": 17,
   "metadata": {
    "extensions": {
     "jupyter_dashboards": {
      "version": 1,
      "views": {
       "grid_default": {},
       "report_default": {}
      }
     }
    },
    "scrolled": true
   },
   "outputs": [
    {
     "data": {
      "text/plain": [
       "Product_line\n",
       "Electronic accessories    38938.17\n",
       "Sports and travel         37457.94\n",
       "Food and beverages        36647.14\n",
       "Home and lifestyle        33764.95\n",
       "Fashion accessories       33361.15\n",
       "Health and beauty         31717.85\n",
       "Name: Sales, dtype: float64"
      ]
     },
     "execution_count": 17,
     "metadata": {},
     "output_type": "execute_result"
    }
   ],
   "source": [
    "#The top product_lines\n",
    "Product_line_Sales = df.groupby(['Product_line']).sum()['Sales'].sort_values(ascending=False)\n",
    "Product_line_Sales.head(8)"
   ]
  },
  {
   "cell_type": "markdown",
   "metadata": {
    "extensions": {
     "jupyter_dashboards": {
      "version": 1,
      "views": {
       "grid_default": {},
       "report_default": {}
      }
     }
    }
   },
   "source": [
    "**Interpretation: Within the three months \"Electronic accessories\" has the highest sales of $38,938.17."
   ]
  },
  {
   "cell_type": "code",
   "execution_count": 18,
   "metadata": {
    "extensions": {
     "jupyter_dashboards": {
      "version": 1,
      "views": {
       "grid_default": {},
       "report_default": {}
      }
     }
    }
   },
   "outputs": [
    {
     "data": {
      "text/plain": [
       "Product_line\n",
       "Electronic accessories    731\n",
       "Sports and travel         659\n",
       "Food and beverages        647\n",
       "Fashion accessories       591\n",
       "Health and beauty         579\n",
       "Home and lifestyle        564\n",
       "Name: Quantity, dtype: int64"
      ]
     },
     "execution_count": 18,
     "metadata": {},
     "output_type": "execute_result"
    }
   ],
   "source": [
    "#The top selling product lines in terms of volumes.\n",
    "Top_selling_products = df.groupby(['Product_line']).sum()['Quantity'].sort_values(ascending=False)\n",
    "Top_selling_products.head(8)"
   ]
  },
  {
   "cell_type": "markdown",
   "metadata": {},
   "source": [
    "**Interpretation: Within the three months \"Electronic accessories\" has the highest quantity volume of 731."
   ]
  },
  {
   "cell_type": "code",
   "execution_count": 19,
   "metadata": {},
   "outputs": [
    {
     "data": {
      "text/plain": [
       "Product_line\n",
       "Food and beverages        6978.33\n",
       "Fashion accessories       6845.13\n",
       "Sports and travel         6783.17\n",
       "Electronic accessories    6636.87\n",
       "Health and beauty         5863.49\n",
       "Home and lifestyle        5860.65\n",
       "Name: Unit price, dtype: float64"
      ]
     },
     "execution_count": 19,
     "metadata": {},
     "output_type": "execute_result"
    }
   ],
   "source": [
    "#The product_line with the highest unit price in dollars.\n",
    "Top_products_UP = df.groupby(['Product_line']).sum()['Unit price'].sort_values(ascending=False)\n",
    "Top_products_UP.head(8)"
   ]
  },
  {
   "cell_type": "markdown",
   "metadata": {
    "extensions": {
     "jupyter_dashboards": {
      "version": 1,
      "views": {
       "grid_default": {},
       "report_default": {}
      }
     }
    }
   },
   "source": [
    "**Interpretation: Within the three months \"Food and beverages\" has the highest unit price of $6,978.33"
   ]
  },
  {
   "cell_type": "code",
   "execution_count": 20,
   "metadata": {
    "extensions": {
     "jupyter_dashboards": {
      "version": 1,
      "views": {
       "grid_default": {},
       "report_default": {}
      }
     }
    }
   },
   "outputs": [
    {
     "data": {
      "text/plain": [
       "Product_line\n",
       "Electronic accessories    1946.9085\n",
       "Sports and travel         1872.8970\n",
       "Food and beverages        1832.3570\n",
       "Home and lifestyle        1688.2475\n",
       "Fashion accessories       1668.0575\n",
       "Health and beauty         1585.8925\n",
       "Name: gross income, dtype: float64"
      ]
     },
     "execution_count": 20,
     "metadata": {},
     "output_type": "execute_result"
    }
   ],
   "source": [
    "#The product_line with th highest gross income.\n",
    "Top_product_GI = df.groupby(['Product_line']).sum()['gross income'].sort_values(ascending=False)\n",
    "Top_product_GI.head(8)"
   ]
  },
  {
   "cell_type": "markdown",
   "metadata": {},
   "source": [
    "**Interpretation: Within the three months \"Electronic accessories\" has the highest gross income of $1946.9085."
   ]
  },
  {
   "cell_type": "code",
   "execution_count": 21,
   "metadata": {},
   "outputs": [
    {
     "data": {
      "text/plain": [
       "Text(0, 0.5, 'Frequency  on sales')"
      ]
     },
     "execution_count": 21,
     "metadata": {},
     "output_type": "execute_result"
    },
    {
     "data": {
      "image/png": "[encoded data removed]",
      "text/plain": [
       "<Figure size 1440x720 with 1 Axes>"
      ]
     },
     "metadata": {},
     "output_type": "display_data"
    }
   ],
   "source": [
    "#Data visualisation on sales of product_line at each branch\n",
    "sns.set(style='dark')\n",
    "plt.figure(figsize=(20,10))\n",
    "sns.barplot(y = 'Sales', x='Branch', hue = 'Product_line', data = df)\n",
    "plt.title('The sales of Product_line at each branch', fontsize=16)\n",
    "plt.xlabel('Supermarket branch sales', fontsize=16)\n",
    "plt.ylabel('Frequency  on sales', fontsize=16)"
   ]
  },
  {
   "cell_type": "code",
   "execution_count": 22,
   "metadata": {},
   "outputs": [
    {
     "data": {
      "text/plain": [
       "Text(0, 0.5, 'Frequency  on sales')"
      ]
     },
     "execution_count": 22,
     "metadata": {},
     "output_type": "execute_result"
    },
    {
     "data": {
      "image/png": "[encoded data removed]",
      "text/plain": [
       "<Figure size 1440x720 with 1 Axes>"
      ]
     },
     "metadata": {},
     "output_type": "display_data"
    }
   ],
   "source": [
    "#Data visualisation on sales of product_line at each city\n",
    "sns.set(style='dark')\n",
    "plt.figure(figsize=(20,10))\n",
    "sns.barplot(x = 'City', y = 'Sales', hue='Product_line', data = df) \n",
    "plt.title('The sales of Product_line at each City', fontsize=16)\n",
    "plt.xlabel('Supermarket sales city', fontsize=16)\n",
    "plt.ylabel('Frequency  on sales', fontsize=16)"
   ]
  },
  {
   "cell_type": "code",
   "execution_count": 23,
   "metadata": {
    "extensions": {
     "jupyter_dashboards": {
      "version": 1,
      "views": {
       "grid_default": {},
       "report_default": {}
      }
     }
    }
   },
   "outputs": [
    {
     "data": {
      "text/html": [
       "<div>\n",
       "<style scoped>\n",
       "    .dataframe tbody tr th:only-of-type {\n",
       "        vertical-align: middle;\n",
       "    }\n",
       "\n",
       "    .dataframe tbody tr th {\n",
       "        vertical-align: top;\n",
       "    }\n",
       "\n",
       "    .dataframe thead th {\n",
       "        text-align: right;\n",
       "    }\n",
       "</style>\n",
       "<table border=\"1\" class=\"dataframe\">\n",
       "  <thead>\n",
       "    <tr style=\"text-align: right;\">\n",
       "      <th></th>\n",
       "      <th>count</th>\n",
       "      <th>mean</th>\n",
       "      <th>std</th>\n",
       "      <th>min</th>\n",
       "      <th>25%</th>\n",
       "      <th>50%</th>\n",
       "      <th>75%</th>\n",
       "      <th>max</th>\n",
       "    </tr>\n",
       "    <tr>\n",
       "      <th>Product_line</th>\n",
       "      <th></th>\n",
       "      <th></th>\n",
       "      <th></th>\n",
       "      <th></th>\n",
       "      <th></th>\n",
       "      <th></th>\n",
       "      <th></th>\n",
       "      <th></th>\n",
       "    </tr>\n",
       "  </thead>\n",
       "  <tbody>\n",
       "    <tr>\n",
       "      <th>Electronic accessories</th>\n",
       "      <td>123.0</td>\n",
       "      <td>6.720325</td>\n",
       "      <td>1.706495</td>\n",
       "      <td>4.0</td>\n",
       "      <td>5.450</td>\n",
       "      <td>6.4</td>\n",
       "      <td>7.850</td>\n",
       "      <td>10.0</td>\n",
       "    </tr>\n",
       "    <tr>\n",
       "      <th>Fashion accessories</th>\n",
       "      <td>120.0</td>\n",
       "      <td>6.935000</td>\n",
       "      <td>1.652381</td>\n",
       "      <td>4.0</td>\n",
       "      <td>5.575</td>\n",
       "      <td>6.9</td>\n",
       "      <td>8.225</td>\n",
       "      <td>9.9</td>\n",
       "    </tr>\n",
       "    <tr>\n",
       "      <th>Food and beverages</th>\n",
       "      <td>122.0</td>\n",
       "      <td>7.101639</td>\n",
       "      <td>1.741567</td>\n",
       "      <td>4.0</td>\n",
       "      <td>5.800</td>\n",
       "      <td>7.2</td>\n",
       "      <td>8.700</td>\n",
       "      <td>9.9</td>\n",
       "    </tr>\n",
       "    <tr>\n",
       "      <th>Health and beauty</th>\n",
       "      <td>107.0</td>\n",
       "      <td>6.841121</td>\n",
       "      <td>1.817626</td>\n",
       "      <td>4.0</td>\n",
       "      <td>5.100</td>\n",
       "      <td>6.8</td>\n",
       "      <td>8.400</td>\n",
       "      <td>10.0</td>\n",
       "    </tr>\n",
       "    <tr>\n",
       "      <th>Home and lifestyle</th>\n",
       "      <td>101.0</td>\n",
       "      <td>6.797030</td>\n",
       "      <td>1.781879</td>\n",
       "      <td>4.1</td>\n",
       "      <td>5.200</td>\n",
       "      <td>7.0</td>\n",
       "      <td>8.300</td>\n",
       "      <td>9.8</td>\n",
       "    </tr>\n",
       "    <tr>\n",
       "      <th>Sports and travel</th>\n",
       "      <td>118.0</td>\n",
       "      <td>7.018644</td>\n",
       "      <td>1.768526</td>\n",
       "      <td>4.1</td>\n",
       "      <td>5.600</td>\n",
       "      <td>6.9</td>\n",
       "      <td>8.575</td>\n",
       "      <td>10.0</td>\n",
       "    </tr>\n",
       "  </tbody>\n",
       "</table>\n",
       "</div>"
      ],
      "text/plain": [
       "                        count      mean       std  min    25%  50%    75%  \\\n",
       "Product_line                                                                \n",
       "Electronic accessories  123.0  6.720325  1.706495  4.0  5.450  6.4  7.850   \n",
       "Fashion accessories     120.0  6.935000  1.652381  4.0  5.575  6.9  8.225   \n",
       "Food and beverages      122.0  7.101639  1.741567  4.0  5.800  7.2  8.700   \n",
       "Health and beauty       107.0  6.841121  1.817626  4.0  5.100  6.8  8.400   \n",
       "Home and lifestyle      101.0  6.797030  1.781879  4.1  5.200  7.0  8.300   \n",
       "Sports and travel       118.0  7.018644  1.768526  4.1  5.600  6.9  8.575   \n",
       "\n",
       "                         max  \n",
       "Product_line                  \n",
       "Electronic accessories  10.0  \n",
       "Fashion accessories      9.9  \n",
       "Food and beverages       9.9  \n",
       "Health and beauty       10.0  \n",
       "Home and lifestyle       9.8  \n",
       "Sports and travel       10.0  "
      ]
     },
     "execution_count": 23,
     "metadata": {},
     "output_type": "execute_result"
    }
   ],
   "source": [
    "#Product_line rating\n",
    "ratings_desc=df.groupby('Product_line')['Rating'].describe()\n",
    "ratings_desc"
   ]
  },
  {
   "cell_type": "markdown",
   "metadata": {},
   "source": [
    "Interpretation: Food and beverages product_line has an average rating 7.2%, while Electronic accessories has average rating of 6.4%."
   ]
  },
  {
   "cell_type": "code",
   "execution_count": 24,
   "metadata": {
    "extensions": {
     "jupyter_dashboards": {
      "version": 1,
      "views": {
       "grid_default": {},
       "report_default": {}
      }
     }
    },
    "scrolled": true
   },
   "outputs": [
    {
     "data": {
      "image/png": "[encoded data removed]",
      "text/plain": [
       "<Figure size 720x432 with 1 Axes>"
      ]
     },
     "metadata": {},
     "output_type": "display_data"
    }
   ],
   "source": [
    "#Average product_line rating visualisaton.\n",
    "Avg_Product_line_rating = ratings_desc.plot(kind='barh', y='mean', title='Average rating per product_line', color='green', figsize=(10,6), xlabel='Supermarket Product_line')"
   ]
  },
  {
   "cell_type": "markdown",
   "metadata": {},
   "source": [
    "***Conclusion: Food and beverages has the highest unit price and rating, Electronic accessories had the highest selling product and the top product_line. \n",
    "   Therefore Electrsonic accessories is the best selling product at the supermarket for the year"
   ]
  }
 ],
 "metadata": {
  "extensions": {
   "jupyter_dashboards": {
    "activeView": "grid_default",
    "version": 1,
    "views": {
     "grid_default": {
      "cellMargin": 10,
      "defaultCellHeight": 20,
      "maxColumns": 12,
      "name": "grid",
      "type": "grid"
     },
     "report_default": {
      "name": "report",
      "type": "report"
     }
    }
   }
  },
  "kernelspec": {
   "display_name": "Python 3",
   "language": "python",
   "name": "python3"
  },
  "language_info": {
   "codemirror_mode": {
    "name": "ipython",
    "version": 3
   },
   "file_extension": ".py",
   "mimetype": "text/x-python",
   "name": "python",
   "nbconvert_exporter": "python",
   "pygments_lexer": "ipython3",
   "version": "3.8.5"
  }
 },
 "nbformat": 4,
 "nbformat_minor": 4
}
